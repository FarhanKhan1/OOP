{
  "nbformat": 4,
  "nbformat_minor": 0,
  "metadata": {
    "colab": {
      "provenance": [],
      "collapsed_sections": [],
      "authorship_tag": "ABX9TyPVoYHNJsFrD0QQU8Dsc0nQ",
      "include_colab_link": true
    },
    "kernelspec": {
      "name": "python3",
      "display_name": "Python 3"
    },
    "language_info": {
      "name": "python"
    }
  },
  "cells": [
    {
      "cell_type": "markdown",
      "metadata": {
        "id": "view-in-github",
        "colab_type": "text"
      },
      "source": [
        "<a href=\"https://colab.research.google.com/github/FarhanKhan1/OOP/blob/main/Multi_Level_Inheretance.ipynb\" target=\"_parent\"><img src=\"https://colab.research.google.com/assets/colab-badge.svg\" alt=\"Open In Colab\"/></a>"
      ]
    },
    {
      "cell_type": "code",
      "execution_count": null,
      "metadata": {
        "id": "3vGXs8Ph4Fv7"
      },
      "outputs": [],
      "source": [
        "# print(\"THIS IS INHERETENCE\")\n",
        "class A:\n",
        "    def __init__(self, a):\n",
        "        self.a = a\n",
        "\n",
        "    def get_info(self):\n",
        "        print(f\" This is A: {self.a}\")\n",
        "\n",
        "class B(A):\n",
        "    def __init__(self,a,b):\n",
        "        super().__init__(a)\n",
        "        self.b = b\n",
        "    \n",
        "    def get_info(self):\n",
        "        print(f\" This is B: {self.b}\")\n",
        "\n",
        "class C(B):\n",
        "    def __init__(self, a,b,c):\n",
        "        B.__init__(self,a,b)\n",
        "        self.c = c\n",
        "\n",
        "    # def get_info(self):\n",
        "    #     print(f\" This is C class: {self.c}\")    \n",
        "\n",
        "a, b, c = 2,4,6\n",
        "obj = C(a,b,c)\n",
        "# print(dir(obj))\n",
        "# print(help(obj))\n",
        "# print(obj.a, obj.b, obj.c)\n",
        "# print(obj.__dict__)\n",
        "obj.get_info()"
      ]
    }
  ]
}