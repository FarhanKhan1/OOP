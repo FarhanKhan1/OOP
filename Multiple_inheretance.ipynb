{
  "nbformat": 4,
  "nbformat_minor": 0,
  "metadata": {
    "colab": {
      "provenance": [],
      "collapsed_sections": [],
      "authorship_tag": "ABX9TyNIpWt1zsiN4VPbF+/PrEZu",
      "include_colab_link": true
    },
    "kernelspec": {
      "name": "python3",
      "display_name": "Python 3"
    },
    "language_info": {
      "name": "python"
    }
  },
  "cells": [
    {
      "cell_type": "markdown",
      "metadata": {
        "id": "view-in-github",
        "colab_type": "text"
      },
      "source": [
        "<a href=\"https://colab.research.google.com/github/FarhanKhan1/OOP/blob/main/Multiple_inheretance.ipynb\" target=\"_parent\"><img src=\"https://colab.research.google.com/assets/colab-badge.svg\" alt=\"Open In Colab\"/></a>"
      ]
    },
    {
      "cell_type": "code",
      "execution_count": null,
      "metadata": {
        "id": "UeYowBLq4uOt"
      },
      "outputs": [],
      "source": [
        "class A:\n",
        "    def __init__(self, a, **kwargs):        \n",
        "        print(\"This is class A\")\n",
        "        self.a = a\n",
        "        super().__init__(**kwargs)\n",
        "\n",
        "    def get(self):\n",
        "        print(\"This is A class\")    \n",
        "\n",
        "class B:\n",
        "    def __init__(self, b, **kwargs):        \n",
        "        print(\"This is class B\")\n",
        "        self.b = b\n",
        "        super().__init__(**kwargs)\n",
        "\n",
        "    def get(self):\n",
        "        print(\"Tclashis B s\")\n",
        "\n",
        "class D:\n",
        "    def __init__(self, d, **kwargs):\n",
        "        self.d = d        \n",
        "        print(\"This is class D\")\n",
        "        super().__init__(**kwargs)\n",
        "\n",
        "class C(B, A, D):\n",
        "    def __init__(self,first,second,third,fourth): #(c, **kwargs)\n",
        "        print(\"This is class C\")    \n",
        "        self.c = third\n",
        "        # super().__init__(a = first, b = second, d = fourth) # (*kwargs)\n",
        "        # super(B, self).__init__()\n",
        "        # super(A, self).__init__()\n",
        "\n",
        "c_obj = C(1,2,3,4)\n",
        "# print(c_obj.a, c_obj.b, c_obj.c, c_obj.d)\n",
        "# print(help(c_obj))\n",
        "print(help(c_obj))\n",
        "# c_obj.get()"
      ]
    }
  ]
}