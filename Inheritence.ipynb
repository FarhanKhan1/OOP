{
  "nbformat": 4,
  "nbformat_minor": 0,
  "metadata": {
    "colab": {
      "provenance": [],
      "collapsed_sections": [],
      "authorship_tag": "ABX9TyOpEMxlu/mtzWc8sj0B9v3q"
    },
    "kernelspec": {
      "name": "python3",
      "display_name": "Python 3"
    },
    "language_info": {
      "name": "python"
    }
  },
  "cells": [
    {
      "cell_type": "code",
      "execution_count": null,
      "metadata": {
        "id": "N8s3eSK73hkt"
      },
      "outputs": [],
      "source": [
        "class Phone_class: #parent/base class\n",
        "    def __init__(self, brand_name, launch_year, screen_size):\n",
        "        self.brand_name = brand_name\n",
        "        self.launch_year = launch_year\n",
        "        self.screen_size = screen_size\n",
        "\n",
        "    def get_name_launch(self):\n",
        "        return f\"name: {self.brand_name} and Launching year is: {self.launch_year} \"\n",
        "\n",
        "class Smartphone_class(Phone_class): #child/derived class \n",
        "    def __init__(self, cpu, ram, camera, brand, l_year, screen):\n",
        "        super().__init__(brand, l_year, screen)\n",
        "        self.cpu = cpu\n",
        "        self.ram = ram\n",
        "        self.camera = camera\n",
        "\n",
        "\n",
        "\n",
        "\n",
        "\n",
        "# a = 100\n",
        "# brand = input(\"Enter Brand name: \")\n",
        "s_phone = Smartphone_class('8 GH', '4-GB', '12-MP', 'SAMSUNG', '2021', '8\"')\n",
        "print(s_phone.camera)\n",
        "print(s_phone.get_name_launch())\n",
        "print(s_phone.__dict__)\n",
        "print(help(s_phone))\n",
        "# \n",
        "# # s_phone1 = Smartphone_class('2 GH', '6-GB', '32-MP', 'Infinix', '2020', '7\"')"
      ]
    }
  ]
}